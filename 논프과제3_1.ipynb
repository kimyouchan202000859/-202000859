{
  "nbformat": 4,
  "nbformat_minor": 0,
  "metadata": {
    "colab": {
      "provenance": [],
      "collapsed_sections": [],
      "authorship_tag": "ABX9TyO7G6XpijzufyC0XBe3ea6F",
      "include_colab_link": true
    },
    "kernelspec": {
      "name": "python3",
      "display_name": "Python 3"
    },
    "language_info": {
      "name": "python"
    }
  },
  "cells": [
    {
      "cell_type": "markdown",
      "metadata": {
        "id": "view-in-github",
        "colab_type": "text"
      },
      "source": [
        "<a href=\"https://colab.research.google.com/github/kimyouchan202000859/python/blob/main/%EB%85%BC%ED%94%84%EA%B3%BC%EC%A0%9C3_1.ipynb\" target=\"_parent\"><img src=\"https://colab.research.google.com/assets/colab-badge.svg\" alt=\"Open In Colab\"/></a>"
      ]
    },
    {
      "cell_type": "code",
      "execution_count": null,
      "metadata": {
        "colab": {
          "base_uri": "https://localhost:8080/"
        },
        "id": "ucLmAC2pqKhE",
        "outputId": "95d08941-a868-4fd5-954a-26108e40b9f7"
      },
      "outputs": [
        {
          "output_type": "stream",
          "name": "stdout",
          "text": [
            "자연수 x를 입력하세요. :5\n",
            "자연수 y를 입력하세요. :2\n",
            "x와 y는 서로의 약수가 아니다.\n"
          ]
        }
      ],
      "source": [
        "x = int(input(\"자연수 x를 입력하세요. :\"))\n",
        "y = int(input(\"자연수 y를 입력하세요. :\"))\n",
        "\n",
        "def f(x,y):\n",
        "    if x % y == 0:\n",
        "        return 1\n",
        "    else :\n",
        "        return 0\n",
        "    \n",
        "if f(y,x) == 1:\n",
        "    if f(x,y) == 1:\n",
        "        print(\"x와 y는 같은 숫자이다.\")\n",
        "    else:\n",
        "        print(\"x는 y의 약수이지만, y가 아니다.\")\n",
        "else:\n",
        "    if f(x,y) == 1:\n",
        "        print(\"y는 x의 약수이지만, x가 아니다.\")\n",
        "    else:\n",
        "        print(\"x와 y는 서로의 약수가 아니다.\")"
      ]
    }
  ]
}