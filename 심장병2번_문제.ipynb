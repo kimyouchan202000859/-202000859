{
  "nbformat": 4,
  "nbformat_minor": 0,
  "metadata": {
    "colab": {
      "provenance": [],
      "authorship_tag": "ABX9TyOujpE+CyNnP/XM84dfTNoy",
      "include_colab_link": true
    },
    "kernelspec": {
      "name": "python3",
      "display_name": "Python 3"
    },
    "language_info": {
      "name": "python"
    }
  },
  "cells": [
    {
      "cell_type": "markdown",
      "metadata": {
        "id": "view-in-github",
        "colab_type": "text"
      },
      "source": [
        "<a href=\"https://colab.research.google.com/github/kimyouchan202000859/python/blob/main/%EC%8B%AC%EC%9E%A5%EB%B3%912%EB%B2%88_%EB%AC%B8%EC%A0%9C.ipynb\" target=\"_parent\"><img src=\"https://colab.research.google.com/assets/colab-badge.svg\" alt=\"Open In Colab\"/></a>"
      ]
    },
    {
      "cell_type": "code",
      "execution_count": null,
      "metadata": {
        "colab": {
          "base_uri": "https://localhost:8080/"
        },
        "id": "UunT_ZWWWaOQ",
        "outputId": "4cc31416-2866-4a5c-a3dc-ffc34ed52e18"
      },
      "outputs": [
        {
          "output_type": "stream",
          "name": "stdout",
          "text": [
            "교차 검증별 정확도: [0.6667 0.7059 0.8039 0.78   0.72   0.58  ]\n",
            "평균 검증 정확도: 0.7094\n"
          ]
        }
      ],
      "source": [
        "from sklearn.tree import DecisionTreeClassifier\n",
        "from sklearn.model_selection import cross_val_score, cross_validate\n",
        "from sklearn.datasets import load_iris\n",
        "from sklearn.preprocessing import StandardScaler\n",
        "import numpy as np\n",
        "np.random.seed(3)   \n",
        "import pandas as pd\n",
        "\n",
        "targetUrl_iris=\"https://raw.githubusercontent.com/kimyouchan202000859/python/main/heart.csv\"\n",
        "df = pd.read_csv(targetUrl_iris)\n",
        "df.isnull().sum().sort_values(ascending=False)       \n",
        "df = df.fillna(df.mean())\n",
        "\n",
        "x = df.iloc[:,1:14]\n",
        "x = pd.get_dummies(x)  \n",
        "std = StandardScaler()\n",
        "x = std.fit_transform(x)\n",
        "y = df.iloc[:,14]\n",
        "y = pd.get_dummies(y)\n",
        "\n",
        "dt_clf = DecisionTreeClassifier(random_state=3)\n",
        "score = cross_val_score(dt_clf, x, y, scoring='accuracy', cv=6)\n",
        "print('교차 검증별 정확도:', np.round(score, 4))\n",
        "print('평균 검증 정확도:', np.round(np.mean(score), 4))"
      ]
    }
  ]
}