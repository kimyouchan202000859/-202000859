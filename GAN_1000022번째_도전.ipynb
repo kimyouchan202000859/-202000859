{
  "nbformat": 4,
  "nbformat_minor": 0,
  "metadata": {
    "colab": {
      "provenance": [],
      "include_colab_link": true
    },
    "kernelspec": {
      "name": "python3",
      "display_name": "Python 3"
    },
    "language_info": {
      "name": "python"
    }
  },
  "cells": [
    {
      "cell_type": "markdown",
      "metadata": {
        "id": "view-in-github",
        "colab_type": "text"
      },
      "source": [
        "<a href=\"https://colab.research.google.com/github/kimyouchan202000859/python/blob/main/GAN_1000022%EB%B2%88%EC%A7%B8_%EB%8F%84%EC%A0%84.ipynb\" target=\"_parent\"><img src=\"https://colab.research.google.com/assets/colab-badge.svg\" alt=\"Open In Colab\"/></a>"
      ]
    },
    {
      "cell_type": "code",
      "source": [
        "from google.colab import drive\n",
        "drive.mount('/content/drive/')"
      ],
      "metadata": {
        "colab": {
          "base_uri": "https://localhost:8080/"
        },
        "id": "TeGw2nIkwJo8",
        "outputId": "74f71ffa-7519-4388-d9e9-2858886ec81e"
      },
      "execution_count": null,
      "outputs": [
        {
          "output_type": "stream",
          "name": "stdout",
          "text": [
            "Mounted at /content/drive/\n"
          ]
        }
      ]
    },
    {
      "cell_type": "code",
      "source": [
        "cd /"
      ],
      "metadata": {
        "colab": {
          "base_uri": "https://localhost:8080/"
        },
        "id": "zcMI9c3MwkoS",
        "outputId": "3263ce19-d3fb-4ed8-8e8e-f0ec03f2f424"
      },
      "execution_count": null,
      "outputs": [
        {
          "output_type": "stream",
          "name": "stdout",
          "text": [
            "/\n"
          ]
        }
      ]
    },
    {
      "cell_type": "code",
      "source": [
        "import numpy as np\n",
        "from skimage.color import rgb2lab, rgb2gray, lab2rgb\n",
        "from skimage.io import imread, imshow\n",
        "import matplotlib.pyplot as plt\n",
        "\n",
        "image_sample= imread('/content/drive/MyDrive/test/non_smile/Aaron_Patterson_0001.jpg')\n",
        "fig, ax = plt.subplots(figsize=(9, 16))\n",
        "imshow(image_sample, ax=ax)\n",
        "ax.set_title('non_simle')"
      ],
      "metadata": {
        "colab": {
          "base_uri": "https://localhost:8080/",
          "height": 690
        },
        "id": "VnERsFNfk0Bg",
        "outputId": "995ed309-8fa1-4205-f676-d5541a4e819f"
      },
      "execution_count": null,
      "outputs": [
        {
          "output_type": "execute_result",
          "data": {
            "text/plain": [
              "Text(0.5, 1.0, 'non_simle')"
            ]
          },
          "metadata": {},
          "execution_count": 3
        },
        {
          "output_type": "display_data",
          "data": {
            "text/plain": [
              "<Figure size 648x1152 with 1 Axes>"
            ],
            "image/png": "[encoded data removed]"
          },
          "metadata": {
            "needs_background": "light"
          }
        }
      ]
    },
    {
      "cell_type": "code",
      "execution_count": null,
      "metadata": {
        "colab": {
          "base_uri": "https://localhost:8080/",
          "height": 461
        },
        "id": "RSf4caHY9jrv",
        "outputId": "5863e9d5-f583-4500-e7ba-db45d19cb47f"
      },
      "outputs": [
        {
          "output_type": "stream",
          "name": "stdout",
          "text": [
            "Found 0 images belonging to 0 classes.\n"
          ]
        },
        {
          "output_type": "error",
          "ename": "AxisError",
          "evalue": "ignored",
          "traceback": [
            "\u001b[0;31m---------------------------------------------------------------------------\u001b[0m",
            "\u001b[0;31mAxisError\u001b[0m                                 Traceback (most recent call last)",
            "\u001b[0;32m<ipython-input-7-6015dc2a2714>\u001b[0m in \u001b[0;36m<module>\u001b[0;34m\u001b[0m\n\u001b[1;32m    159\u001b[0m \u001b[0msample_interval\u001b[0m \u001b[0;34m=\u001b[0m \u001b[0;36m1000\u001b[0m            \u001b[0;31m## 보스에게 보고는 1000번에 한번씩\u001b[0m\u001b[0;34m\u001b[0m\u001b[0;34m\u001b[0m\u001b[0m\n\u001b[1;32m    160\u001b[0m \u001b[0;34m\u001b[0m\u001b[0m\n\u001b[0;32m--> 161\u001b[0;31m \u001b[0mtrain\u001b[0m\u001b[0;34m(\u001b[0m\u001b[0miterations\u001b[0m\u001b[0;34m,\u001b[0m \u001b[0mbatch_size\u001b[0m\u001b[0;34m,\u001b[0m \u001b[0msample_interval\u001b[0m\u001b[0;34m)\u001b[0m \u001b[0;31m## 학습시작\u001b[0m\u001b[0;34m\u001b[0m\u001b[0;34m\u001b[0m\u001b[0m\n\u001b[0m\u001b[1;32m    162\u001b[0m \u001b[0;34m\u001b[0m\u001b[0m\n\u001b[1;32m    163\u001b[0m \u001b[0mlosses\u001b[0m \u001b[0;34m=\u001b[0m \u001b[0mnp\u001b[0m\u001b[0;34m.\u001b[0m\u001b[0marray\u001b[0m\u001b[0;34m(\u001b[0m\u001b[0mlosses\u001b[0m\u001b[0;34m)\u001b[0m\u001b[0;34m\u001b[0m\u001b[0;34m\u001b[0m\u001b[0m\n",
            "\u001b[0;32m<ipython-input-7-6015dc2a2714>\u001b[0m in \u001b[0;36mtrain\u001b[0;34m(iterations, batch_size, sample_interval)\u001b[0m\n\u001b[1;32m     98\u001b[0m \u001b[0;34m\u001b[0m\u001b[0m\n\u001b[1;32m     99\u001b[0m     \u001b[0;31m#X_train = X_train / 127.5 - 1.0                 ##  data값을 -1과 1사이로 제한하기 위해.... 보통 0과1사이로 1/255로도 많이 한다.\u001b[0m\u001b[0;34m\u001b[0m\u001b[0;34m\u001b[0m\u001b[0;34m\u001b[0m\u001b[0m\n\u001b[0;32m--> 100\u001b[0;31m     \u001b[0mX_train\u001b[0m \u001b[0;34m=\u001b[0m \u001b[0mnp\u001b[0m\u001b[0;34m.\u001b[0m\u001b[0mexpand_dims\u001b[0m\u001b[0;34m(\u001b[0m\u001b[0mX_train\u001b[0m\u001b[0;34m,\u001b[0m \u001b[0maxis\u001b[0m\u001b[0;34m=\u001b[0m\u001b[0;36m3\u001b[0m\u001b[0;34m)\u001b[0m    \u001b[0;31m## 저자가 왜 이랬는지 궁금하다.\u001b[0m\u001b[0;34m\u001b[0m\u001b[0;34m\u001b[0m\u001b[0m\n\u001b[0m\u001b[1;32m    101\u001b[0m \u001b[0;34m\u001b[0m\u001b[0m\n\u001b[1;32m    102\u001b[0m     \u001b[0mreal\u001b[0m \u001b[0;34m=\u001b[0m \u001b[0mnp\u001b[0m\u001b[0;34m.\u001b[0m\u001b[0mones\u001b[0m\u001b[0;34m(\u001b[0m\u001b[0;34m(\u001b[0m\u001b[0mbatch_size\u001b[0m\u001b[0;34m,\u001b[0m \u001b[0;36m1\u001b[0m\u001b[0;34m)\u001b[0m\u001b[0;34m)\u001b[0m                 \u001b[0;31m## 100개씩 묶어서 학습하려고 한다. 진짜를 위한 정답 [1,1,1,1,...,1] 즉 100개짜리 1\u001b[0m\u001b[0;34m\u001b[0m\u001b[0;34m\u001b[0m\u001b[0m\n",
            "\u001b[0;32m<__array_function__ internals>\u001b[0m in \u001b[0;36mexpand_dims\u001b[0;34m(*args, **kwargs)\u001b[0m\n",
            "\u001b[0;32m/usr/local/lib/python3.8/dist-packages/numpy/lib/shape_base.py\u001b[0m in \u001b[0;36mexpand_dims\u001b[0;34m(a, axis)\u001b[0m\n\u001b[1;32m    595\u001b[0m \u001b[0;34m\u001b[0m\u001b[0m\n\u001b[1;32m    596\u001b[0m     \u001b[0mout_ndim\u001b[0m \u001b[0;34m=\u001b[0m \u001b[0mlen\u001b[0m\u001b[0;34m(\u001b[0m\u001b[0maxis\u001b[0m\u001b[0;34m)\u001b[0m \u001b[0;34m+\u001b[0m \u001b[0ma\u001b[0m\u001b[0;34m.\u001b[0m\u001b[0mndim\u001b[0m\u001b[0;34m\u001b[0m\u001b[0;34m\u001b[0m\u001b[0m\n\u001b[0;32m--> 597\u001b[0;31m     \u001b[0maxis\u001b[0m \u001b[0;34m=\u001b[0m \u001b[0mnormalize_axis_tuple\u001b[0m\u001b[0;34m(\u001b[0m\u001b[0maxis\u001b[0m\u001b[0;34m,\u001b[0m \u001b[0mout_ndim\u001b[0m\u001b[0;34m)\u001b[0m\u001b[0;34m\u001b[0m\u001b[0;34m\u001b[0m\u001b[0m\n\u001b[0m\u001b[1;32m    598\u001b[0m \u001b[0;34m\u001b[0m\u001b[0m\n\u001b[1;32m    599\u001b[0m     \u001b[0mshape_it\u001b[0m \u001b[0;34m=\u001b[0m \u001b[0miter\u001b[0m\u001b[0;34m(\u001b[0m\u001b[0ma\u001b[0m\u001b[0;34m.\u001b[0m\u001b[0mshape\u001b[0m\u001b[0;34m)\u001b[0m\u001b[0;34m\u001b[0m\u001b[0;34m\u001b[0m\u001b[0m\n",
            "\u001b[0;32m/usr/local/lib/python3.8/dist-packages/numpy/core/numeric.py\u001b[0m in \u001b[0;36mnormalize_axis_tuple\u001b[0;34m(axis, ndim, argname, allow_duplicate)\u001b[0m\n\u001b[1;32m   1383\u001b[0m             \u001b[0;32mpass\u001b[0m\u001b[0;34m\u001b[0m\u001b[0;34m\u001b[0m\u001b[0m\n\u001b[1;32m   1384\u001b[0m     \u001b[0;31m# Going via an iterator directly is slower than via list comprehension.\u001b[0m\u001b[0;34m\u001b[0m\u001b[0;34m\u001b[0m\u001b[0;34m\u001b[0m\u001b[0m\n\u001b[0;32m-> 1385\u001b[0;31m     \u001b[0maxis\u001b[0m \u001b[0;34m=\u001b[0m \u001b[0mtuple\u001b[0m\u001b[0;34m(\u001b[0m\u001b[0;34m[\u001b[0m\u001b[0mnormalize_axis_index\u001b[0m\u001b[0;34m(\u001b[0m\u001b[0max\u001b[0m\u001b[0;34m,\u001b[0m \u001b[0mndim\u001b[0m\u001b[0;34m,\u001b[0m \u001b[0margname\u001b[0m\u001b[0;34m)\u001b[0m \u001b[0;32mfor\u001b[0m \u001b[0max\u001b[0m \u001b[0;32min\u001b[0m \u001b[0maxis\u001b[0m\u001b[0;34m]\u001b[0m\u001b[0;34m)\u001b[0m\u001b[0;34m\u001b[0m\u001b[0;34m\u001b[0m\u001b[0m\n\u001b[0m\u001b[1;32m   1386\u001b[0m     \u001b[0;32mif\u001b[0m \u001b[0;32mnot\u001b[0m \u001b[0mallow_duplicate\u001b[0m \u001b[0;32mand\u001b[0m \u001b[0mlen\u001b[0m\u001b[0;34m(\u001b[0m\u001b[0mset\u001b[0m\u001b[0;34m(\u001b[0m\u001b[0maxis\u001b[0m\u001b[0;34m)\u001b[0m\u001b[0;34m)\u001b[0m \u001b[0;34m!=\u001b[0m \u001b[0mlen\u001b[0m\u001b[0;34m(\u001b[0m\u001b[0maxis\u001b[0m\u001b[0;34m)\u001b[0m\u001b[0;34m:\u001b[0m\u001b[0;34m\u001b[0m\u001b[0;34m\u001b[0m\u001b[0m\n\u001b[1;32m   1387\u001b[0m         \u001b[0;32mif\u001b[0m \u001b[0margname\u001b[0m\u001b[0;34m:\u001b[0m\u001b[0;34m\u001b[0m\u001b[0;34m\u001b[0m\u001b[0m\n",
            "\u001b[0;32m/usr/local/lib/python3.8/dist-packages/numpy/core/numeric.py\u001b[0m in \u001b[0;36m<listcomp>\u001b[0;34m(.0)\u001b[0m\n\u001b[1;32m   1383\u001b[0m             \u001b[0;32mpass\u001b[0m\u001b[0;34m\u001b[0m\u001b[0;34m\u001b[0m\u001b[0m\n\u001b[1;32m   1384\u001b[0m     \u001b[0;31m# Going via an iterator directly is slower than via list comprehension.\u001b[0m\u001b[0;34m\u001b[0m\u001b[0;34m\u001b[0m\u001b[0;34m\u001b[0m\u001b[0m\n\u001b[0;32m-> 1385\u001b[0;31m     \u001b[0maxis\u001b[0m \u001b[0;34m=\u001b[0m \u001b[0mtuple\u001b[0m\u001b[0;34m(\u001b[0m\u001b[0;34m[\u001b[0m\u001b[0mnormalize_axis_index\u001b[0m\u001b[0;34m(\u001b[0m\u001b[0max\u001b[0m\u001b[0;34m,\u001b[0m \u001b[0mndim\u001b[0m\u001b[0;34m,\u001b[0m \u001b[0margname\u001b[0m\u001b[0;34m)\u001b[0m \u001b[0;32mfor\u001b[0m \u001b[0max\u001b[0m \u001b[0;32min\u001b[0m \u001b[0maxis\u001b[0m\u001b[0;34m]\u001b[0m\u001b[0;34m)\u001b[0m\u001b[0;34m\u001b[0m\u001b[0;34m\u001b[0m\u001b[0m\n\u001b[0m\u001b[1;32m   1386\u001b[0m     \u001b[0;32mif\u001b[0m \u001b[0;32mnot\u001b[0m \u001b[0mallow_duplicate\u001b[0m \u001b[0;32mand\u001b[0m \u001b[0mlen\u001b[0m\u001b[0;34m(\u001b[0m\u001b[0mset\u001b[0m\u001b[0;34m(\u001b[0m\u001b[0maxis\u001b[0m\u001b[0;34m)\u001b[0m\u001b[0;34m)\u001b[0m \u001b[0;34m!=\u001b[0m \u001b[0mlen\u001b[0m\u001b[0;34m(\u001b[0m\u001b[0maxis\u001b[0m\u001b[0;34m)\u001b[0m\u001b[0;34m:\u001b[0m\u001b[0;34m\u001b[0m\u001b[0;34m\u001b[0m\u001b[0m\n\u001b[1;32m   1387\u001b[0m         \u001b[0;32mif\u001b[0m \u001b[0margname\u001b[0m\u001b[0;34m:\u001b[0m\u001b[0;34m\u001b[0m\u001b[0;34m\u001b[0m\u001b[0m\n",
            "\u001b[0;31mAxisError\u001b[0m: axis 3 is out of bounds for array of dimension 1"
          ]
        }
      ],
      "source": [
        "from tensorflow.keras.preprocessing.image import ImageDataGenerator\n",
        "from tensorflow.keras import Model\n",
        "from tensorflow.keras.models import Sequential\n",
        "from tensorflow.keras.layers import Dense, Dropout, Flatten, Conv2D, MaxPooling2D\n",
        "from keras.optimizers import Adam\n",
        "import matplotlib.pyplot as plt\n",
        "import numpy as np\n",
        "\n",
        "from keras.datasets import mnist\n",
        "from keras.layers import Dense, Flatten, Reshape\n",
        "from keras.layers import LeakyReLU\n",
        "from keras.models import Sequential\n",
        "from keras.optimizers import Adam\n",
        "\n",
        "train_gen = ImageDataGenerator(\n",
        "        rescale=1./225,         # 픽셀 값을 0~1 범위로 변환 ## 이것은 사실상 필수 사항입니다.\n",
        "        rotation_range=40,      # 40도까지 회전\n",
        "        width_shift_range=0.2,  # 20%까지 좌우 이동\n",
        "        height_shift_range=0.2, # 20%까지 상하 이동\n",
        "        shear_range=0.2,        # 20%까지 기울임\n",
        "        zoom_range=0.2,         # 20%까지 확대\n",
        "        horizontal_flip=True,   # 좌우 뒤집기\n",
        "    )\n",
        "\n",
        "\n",
        "### 이제 /content/drive/MyDrive/data/train에 두개의 폴더 adults/  children/에서 train data로 쓸 그림을 가지고 옵니다.\n",
        "### 그리고 각각 폴더에서 온 것을 [1,0]과 [0,1]를 정답으로 해서 불러옵니다.\n",
        "\n",
        "train = train_gen.flow_from_directory(directory='/content/drive/MyDrive/test/non_smile',\n",
        "                                              target_size=(64,64),  # 사용할 CNN 모델 입력 사이즈에 맞게 resize, 사이즈를 원하는 모양으로 조절이 가능해요.\n",
        "                                              color_mode='grayscale',       # 컬러는 rgb, 흑백은 grayscale. 생략하면 컬러로 처리한다\n",
        "                                              #class_mode='binary',\n",
        "                                              batch_size=20,\n",
        "                                              shuffle=True)\n",
        "\n",
        "\n",
        "\n",
        "\n",
        "img_rows = 28\n",
        "img_cols = 28\n",
        "channels = 1\n",
        "img_shape = (img_rows, img_cols, channels)   ### 28x28 크기의 흑백 사진\n",
        "z_dim = 100\n",
        "\n",
        "\n",
        "def build_generator(img_shape, z_dim):         ## Generator(위조범)를 위한 신경망 모델\n",
        "    model = Sequential()\n",
        "    model.add(Dense(128, input_dim=z_dim))\n",
        "    model.add(LeakyReLU(alpha=0.01))          ## LeakyReLU를 사용해 보았다.\n",
        "    model.add(Dense(28 * 28 * 1, activation='tanh'))  ## tanh를 사용해 보았다. -1부터 1까지가 값의 범위\n",
        "    model.add(Reshape(img_shape))             # 28 * 28 흑백사진. 여기에서 각 픽셀값의 범위는 -1부터 1이다.\n",
        "\n",
        "    return model\n",
        "\n",
        "\n",
        "def build_discriminator(img_shape):             ## Discriminator(판별자)를 위한 신경망 모델\n",
        "    model = Sequential()\n",
        "    model.add(Flatten(input_shape=img_shape))   # 일단 펴 보았다.\n",
        "    model.add(Dense(128))                       # 복잡해 봐야 머리만 아프다.\n",
        "    model.add(LeakyReLU(alpha=0.01))\n",
        "    model.add(Dense(1, activation='sigmoid'))   # 0은 가짜, 1은 진짜로 구분하니 sigmoid를 썼다.\n",
        "\n",
        "    return model\n",
        "\n",
        "\n",
        "def build_gan(generator, discriminator):        ## Generator(위조범)을 학습하기 위한 부분이다.\n",
        "    model = Sequential()                        # 위조범과 판별자를 합체 !!!\n",
        "    model.add(generator)\n",
        "    discriminator.trainable = False             # 위조범과 판별자를 합체하여 판별자를 속이는 것을 학습한다. 그래서 판별자는 여기에서 학습을 안된다.\n",
        "    model.add(discriminator)\n",
        "\n",
        "    return model\n",
        "\n",
        "## discriminator, generator, gan이 드디어 등장, 어떻게 compile할지 결정한다.\n",
        "## img_shape은 28x28의 흑백, z_dim은 위조범에게 줄 latent space의 차원, 100이다.\n",
        "\n",
        "discriminator = build_discriminator(img_shape)\n",
        "discriminator.compile(loss='binary_crossentropy', optimizer=Adam(),\n",
        "                      metrics=['accuracy'])\n",
        "\n",
        "\n",
        "generator = build_generator(img_shape, z_dim)\n",
        "\n",
        "\n",
        "\n",
        "gan = build_gan(generator, discriminator)\n",
        "gan.compile(loss='binary_crossentropy', optimizer=Adam())\n",
        "\n",
        "\n",
        "losses = []\n",
        "accuracies = []\n",
        "iteration_checkpoints = []\n",
        "\n",
        "\n",
        "def train(iterations, batch_size, sample_interval): ## 가짜 100개 생산 => 가짜128+진짜128개로 판별자 학습 => 가짜 128개로 판별자를 속이도록 위조범 학습\n",
        "\n",
        "    X_train = train ## 우리는 MNIST data 중 X-train만 이용한다. 필요없는 것은 나훈아 씨에게...\n",
        "\n",
        "    #X_train = X_train / 127.5 - 1.0                 ##  data값을 -1과 1사이로 제한하기 위해.... 보통 0과1사이로 1/255로도 많이 한다.\n",
        "    X_train = np.expand_dims(X_train, axis=3)    ## 저자가 왜 이랬는지 궁금하다.\n",
        "\n",
        "    real = np.ones((batch_size, 1))                 ## 100개씩 묶어서 학습하려고 한다. 진짜를 위한 정답 [1,1,1,1,...,1] 즉 100개짜리 1\n",
        "    fake = np.zeros((batch_size, 1))                ## 가짜를 위한 정답 [0,0,0,0,...,1] 즉 100개짜리 0\n",
        "\n",
        "    for iteration in range(iterations):\n",
        "        idx = np.random.randint(0, X_train.shape[0], batch_size)   ## 진짜에서 128개의 샘플을 뽑기 위해, 0에서 60000개에서 번호표 100개를 뽑는다.\n",
        "        imgs = X_train[idx]                         ## 128개의 번호표 해당하는 128개의 진짜 사진을 불러온다.\n",
        "\n",
        "        z = np.random.normal(0, 1, (batch_size, 100))   ## 위조범이 128개의 가짜를 만들도록 필요한 128개의 random 입력값 z를 만든다. 입력값 z은 100개의 숫자로 이루어진 벡터다.\n",
        "        gen_imgs = generator.predict(z)              ## 막 만든 입력값을 가지고 128개의 가짜 이미지를 만든다.\n",
        "\n",
        "        discriminator.trainable = True ## 새로 추가했음.\n",
        "\n",
        "        d_loss_real = discriminator.train_on_batch(imgs, real)    ## 적당히 가짜와 진짜를 섞어야 할 것도 같지만, 복잡하므로 먼저 진짜 128개로 판별자 학습\n",
        "        d_loss_fake = discriminator.train_on_batch(gen_imgs, fake) ## 그 다음 가짜 128개로 학습한다. 즉 128개 내리 맞는 것 128개 내리 틀린 것으로 웃기지만 학습했다. 만번이나 학습하는데.... 큰 문제가 없어 보인다.\n",
        "        d_loss, accuracy = 0.5 * np.add(d_loss_real, d_loss_fake)  ## 방금 총 128*2번 학습한 것의 loss값과 정확도를 저장한다.\n",
        "\n",
        "        z = np.random.normal(0, 1, (batch_size, 100))  ### 이제 위조범을 학습하기 위한 또 128개의 입력값 z를 만든다.\n",
        "\n",
        "        discriminator.trainable = False ## 새로 추가했음.\n",
        "\n",
        "        g_loss = gan.train_on_batch(z, real)           ### gan을 불러와서 위조범을 학습는데, gan=위조범+판별자, 그리고 판별자는 학습이 안된다.\n",
        "                                                       ### 여기서 중요한 것은 \"판별자가 가짜를 진짜로 결과가 나오게 하는 것을 목표\"로  위조범을 학습하는 것이다.\n",
        "\n",
        "\n",
        "        if (iteration + 1) % sample_interval == 0:     ### 그래도 가끔은 중간에 보고하고  그림도 보여 주어야 보스가 안심한다. sample_interval을 1000으로 하여 1000번 마다 한번씩 상태를 확인한다.\n",
        "            losses.append((d_loss, g_loss))\n",
        "            accuracies.append(100.0 * accuracy)\n",
        "            iteration_checkpoints.append(iteration + 1)\n",
        "\n",
        "            print(\"%d [D loss: %f, acc.: %.2f%%] [G loss: %f]\" %\n",
        "                  (iteration + 1, d_loss, 100.0 * accuracy, g_loss))\n",
        "\n",
        "            sample_images(generator)                   ### 그림을 그린다.\n",
        "\n",
        "\n",
        "def sample_images(generator, image_grid_rows=4, image_grid_columns=4):\n",
        "    z = np.random.normal(0, 1, (image_grid_rows * image_grid_columns, z_dim))\n",
        "\n",
        "    gen_imgs = generator.predict(z)\n",
        "    gen_imgs = 0.5 * gen_imgs + 0.5              ### 이미지라는 것이 0부터 255까지의 정수거나 0부터 1까지 실수여야 한다. 시작할 때 -1부터 1까지로 변한을 해서 이런 일을 하는 것이다.\n",
        "\n",
        "    fig, axs = plt.subplots(image_grid_rows,\n",
        "                            image_grid_columns,\n",
        "                            figsize=(4, 4),\n",
        "                            sharey=True,\n",
        "                            sharex=True)\n",
        "\n",
        "    cnt = 0\n",
        "    for i in range(image_grid_rows):\n",
        "        for j in range(image_grid_columns):\n",
        "            axs[i, j].imshow(gen_imgs[cnt, :, :, 0], cmap='gray')  ## cmap='gray'를 써서 흑백이다. 아예없으면 컬러 사진이 나온다. 사실 cmap 옵션이 다양해서 오만가지 방법으로 색을 표현하지만, 고흐같이, 피카소같이는 없다.\n",
        "            axs[i, j].axis('off')\n",
        "            cnt += 1\n",
        "\n",
        "\n",
        "iterations = 10000                ## GAN의 학습을 만번 돌리겠다는 거다.\n",
        "batch_size = 128                  ## GAN 한번마다 묶음 단위\n",
        "sample_interval = 1000            ## 보스에게 보고는 1000번에 한번씩\n",
        "\n",
        "train(iterations, batch_size, sample_interval) ## 학습시작\n",
        "\n",
        "losses = np.array(losses)\n",
        "\n",
        "plt.figure(figsize=(15, 5))\n",
        "plt.plot(iteration_checkpoints, losses.T[0], label=\"Discriminator loss\")\n",
        "plt.plot(iteration_checkpoints, losses.T[1], label=\"Generator loss\")\n",
        "\n",
        "plt.xticks(iteration_checkpoints, rotation=90)\n",
        "\n",
        "plt.title(\"Training Loss\")\n",
        "plt.xlabel(\"Iteration\")\n",
        "plt.ylabel(\"Loss\")\n",
        "plt.legend()\n",
        "\n",
        "accuracies = np.array(accuracies)\n",
        "\n",
        "plt.figure(figsize=(15, 5))\n",
        "plt.plot(iteration_checkpoints, accuracies, label=\"Discriminator accuracy\")\n",
        "\n",
        "plt.xticks(iteration_checkpoints, rotation=90)\n",
        "plt.yticks(range(0, 100, 5))\n",
        "\n",
        "plt.title(\"Discriminator Accuracy\")\n",
        "plt.xlabel(\"Iteration\")\n",
        "plt.ylabel(\"Accuracy (%)\")\n",
        "plt.legend()\n",
        "plt.show()"
      ]
    }
  ]
}