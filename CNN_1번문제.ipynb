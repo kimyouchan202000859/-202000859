{
  "nbformat": 4,
  "nbformat_minor": 0,
  "metadata": {
    "colab": {
      "provenance": [],
      "include_colab_link": true
    },
    "kernelspec": {
      "name": "python3",
      "display_name": "Python 3"
    },
    "language_info": {
      "name": "python"
    }
  },
  "cells": [
    {
      "cell_type": "markdown",
      "metadata": {
        "id": "view-in-github",
        "colab_type": "text"
      },
      "source": [
        "<a href=\"https://colab.research.google.com/github/kimyouchan202000859/python/blob/main/CNN_1%EB%B2%88%EB%AC%B8%EC%A0%9C.ipynb\" target=\"_parent\"><img src=\"https://colab.research.google.com/assets/colab-badge.svg\" alt=\"Open In Colab\"/></a>"
      ]
    },
    {
      "cell_type": "code",
      "execution_count": null,
      "metadata": {
        "id": "vtrPM3mOj2SF",
        "colab": {
          "base_uri": "https://localhost:8080/"
        },
        "outputId": "18c3ebf1-2ccf-49ed-ffd6-aebae1f484e5"
      },
      "outputs": [
        {
          "output_type": "stream",
          "name": "stdout",
          "text": [
            "Downloading data from https://storage.googleapis.com/tensorflow/tf-keras-datasets/train-labels-idx1-ubyte.gz\n",
            "29515/29515 [==============================] - 0s 0us/step\n",
            "Downloading data from https://storage.googleapis.com/tensorflow/tf-keras-datasets/train-images-idx3-ubyte.gz\n",
            "26421880/26421880 [==============================] - 0s 0us/step\n",
            "Downloading data from https://storage.googleapis.com/tensorflow/tf-keras-datasets/t10k-labels-idx1-ubyte.gz\n",
            "5148/5148 [==============================] - 0s 0us/step\n",
            "Downloading data from https://storage.googleapis.com/tensorflow/tf-keras-datasets/t10k-images-idx3-ubyte.gz\n",
            "4422102/4422102 [==============================] - 0s 0us/step\n"
          ]
        }
      ],
      "source": [
        "import tensorflow as tf\n",
        "from tensorflow.keras.models import Sequential\n",
        "from tensorflow.keras.layers import Dense, Dropout, Flatten, Conv2D, MaxPooling2D\n",
        "from tensorflow.keras.callbacks import ModelCheckpoint,EarlyStopping\n",
        "from tensorflow.keras.datasets import mnist\n",
        "from tensorflow.keras.utils import to_categorical\n",
        "\n",
        "import matplotlib.pyplot as plt\n",
        "import numpy as np\n",
        "\n",
        "import os\n",
        "fashion_mnist = tf.keras.datasets.fashion_mnist\n",
        "\n",
        "(X_train, y_train), (X_test, y_test) = fashion_mnist.load_data()\n"
      ]
    },
    {
      "cell_type": "code",
      "source": [
        "type(X_train)\n"
      ],
      "metadata": {
        "colab": {
          "base_uri": "https://localhost:8080/"
        },
        "id": "jdaEyEz6keAC",
        "outputId": "6d16adad-8c9e-42f4-e998-aaf2be0aaea5"
      },
      "execution_count": null,
      "outputs": [
        {
          "output_type": "execute_result",
          "data": {
            "text/plain": [
              "numpy.ndarray"
            ]
          },
          "metadata": {},
          "execution_count": 7
        }
      ]
    },
    {
      "cell_type": "code",
      "source": [
        "print(X_train.shape)"
      ],
      "metadata": {
        "colab": {
          "base_uri": "https://localhost:8080/"
        },
        "id": "wLlSfluyW6ap",
        "outputId": "31c60c53-3e41-4c0f-e4e4-b9101d13b22c"
      },
      "execution_count": null,
      "outputs": [
        {
          "output_type": "stream",
          "name": "stdout",
          "text": [
            "(60000, 28, 28)\n"
          ]
        }
      ]
    },
    {
      "cell_type": "code",
      "source": [
        "plt.imshow(X_train[1], cmap='Greys')\n",
        "plt.show()"
      ],
      "metadata": {
        "colab": {
          "base_uri": "https://localhost:8080/",
          "height": 265
        },
        "id": "0hbUzKRIo8xF",
        "outputId": "f0727e5f-ab8d-465b-9088-88b9a847af25"
      },
      "execution_count": null,
      "outputs": [
        {
          "output_type": "display_data",
          "data": {
            "text/plain": [
              "<Figure size 432x288 with 1 Axes>"
            ],
            "image/png": "[encoded data removed]"
          },
          "metadata": {
            "needs_background": "light"
          }
        }
      ]
    },
    {
      "cell_type": "code",
      "source": [
        "import sys\n",
        "\n",
        "for x in X_train[1]:\n",
        "    for i in x:\n",
        "        sys.stdout.write(\"%-3s\" % i)\n",
        "    sys.stdout.write('\\n')"
      ],
      "metadata": {
        "colab": {
          "base_uri": "https://localhost:8080/"
        },
        "id": "iAosLJEIo_dn",
        "outputId": "8051354d-9810-4bb7-d936-1f8d3f7cd8bc"
      },
      "execution_count": null,
      "outputs": [
        {
          "output_type": "stream",
          "name": "stdout",
          "text": [
            "0  0  0  0  0  1  0  0  0  0  41 18810354 48 43 87 16813316 0  0  0  0  0  0  0  0  \n",
            "0  0  0  1  0  0  0  49 13621921622823625525525525521721525423116045 0  0  0  0  0  \n",
            "0  0  0  0  0  14 1762222242122031981962002152042022012012012092182241640  0  0  0  \n",
            "0  0  0  0  0  18821920019820219819919920119619819820020020020020120022541 0  0  0  \n",
            "0  0  0  0  51 2191992032032122382482502452492462472522482352072032032221400  0  0  \n",
            "0  0  0  0  11622620620420720410175 47 73 48 50 45 51 63 1132222022062202240  0  0  \n",
            "0  0  0  0  2002222092032152000  70 98 0  10359 68 71 49 0  21920621421025038 0  0  \n",
            "0  0  0  0  2472182122102152140  2542431392551742512552050  21521721420822095 0  0  \n",
            "0  0  0  45 2262142142152242050  42 35 60 16 17 12 13 70 0  1892162122062121560  0  \n",
            "0  0  0  16423521421122021620152 71 89 94 83 78 70 76 92 87 2062072222132192080  0  \n",
            "0  0  0  1061872232372482111982522502482452482522532502522392012122252151931130  0  \n",
            "0  0  0  0  0  17 54 1592221932081921972002002002002012031952101650  0  0  0  0  0  \n",
            "0  0  0  0  0  0  0  47 2251922142032062042042052062042121972181070  0  0  0  0  0  \n",
            "0  0  0  0  1  6  0  46 21219521220220620520420520620421220021891 0  3  1  0  0  0  \n",
            "0  0  0  0  0  1  0  11 19719920520220520620420520720420520521877 0  5  0  0  0  0  \n",
            "0  0  0  0  0  3  0  2  19119820120520620520520620920619920921974 0  5  0  0  0  0  \n",
            "0  0  0  0  0  2  0  0  18819720020720720420720721020819820722172 0  4  0  0  0  0  \n",
            "0  0  0  0  0  2  0  0  21519820320620820520720721020820020222275 0  4  0  0  0  0  \n",
            "0  0  0  0  0  1  0  0  21219820920620920620820721120620519822180 0  3  0  0  0  0  \n",
            "0  0  0  0  0  1  0  0  20420120520820720521120521021020919522196 0  3  0  0  0  0  \n",
            "0  0  0  0  0  1  0  0  2022012052092072052132062102092101942171050  2  0  0  0  0  \n",
            "0  0  0  0  0  1  0  0  2042042052082072052152072102082111932131150  2  0  0  0  0  \n",
            "0  0  0  0  0  0  0  0  2042072072082062062152102102072121952101180  2  0  0  0  0  \n",
            "0  0  0  0  0  1  0  0  1982082082082042072122122102072111962071210  1  0  0  0  0  \n",
            "0  0  0  0  0  1  0  0  1982102072082062092132122112072101972071240  1  0  0  0  0  \n",
            "0  0  0  0  0  0  0  0  1722102032011992042072052042012051972061270  0  0  0  0  0  \n",
            "0  0  0  0  0  0  0  0  1882212142342362382442442442402432142241620  2  0  0  0  0  \n",
            "0  0  0  0  0  1  0  0  13914613013513513712512412512111911413076 0  0  0  0  0  0  \n"
          ]
        }
      ]
    },
    {
      "cell_type": "code",
      "source": [
        "X_train = X_train.reshape(X_train.shape[0], 28, 28, 1).astype('float32') / 255 #0에서 1사이\n",
        "X_test = X_test.reshape(X_test.shape[0], 28, 28, 1).astype('float32') / 255\n",
        "y_train = to_categorical(y_train)\n",
        "y_test = to_categorical(y_test)\n"
      ],
      "metadata": {
        "id": "KLzODqCXkcOJ"
      },
      "execution_count": null,
      "outputs": []
    },
    {
      "cell_type": "code",
      "source": [
        "y_train[257]"
      ],
      "metadata": {
        "colab": {
          "base_uri": "https://localhost:8080/"
        },
        "id": "l6dQKuuR0kO9",
        "outputId": "e28c6623-1462-452e-b7b6-5eb333f2973b"
      },
      "execution_count": null,
      "outputs": [
        {
          "output_type": "execute_result",
          "data": {
            "text/plain": [
              "array([0., 0., 0., 0., 1., 0., 0., 0., 0., 0.], dtype=float32)"
            ]
          },
          "metadata": {},
          "execution_count": 28
        }
      ]
    },
    {
      "cell_type": "code",
      "source": [
        "type(y_train)"
      ],
      "metadata": {
        "colab": {
          "base_uri": "https://localhost:8080/"
        },
        "id": "nSthREMs3O9C",
        "outputId": "a2346cbf-446c-4a88-d604-5786979b0a56"
      },
      "execution_count": null,
      "outputs": [
        {
          "output_type": "execute_result",
          "data": {
            "text/plain": [
              "numpy.ndarray"
            ]
          },
          "metadata": {},
          "execution_count": 29
        }
      ]
    },
    {
      "cell_type": "code",
      "source": [
        "model = Sequential()\n",
        "model.add(Conv2D(32, kernel_size=(3, 3), input_shape=(28, 28, 1), activation='relu'))\n",
        "model.add(Conv2D(16, (3, 3), activation='relu'))\n",
        "model.add(MaxPooling2D(pool_size=(2,2)))\n",
        "model.add(Dropout(0.3))\n",
        "model.add(Flatten())\n",
        "model.add(Dense(25,  activation='relu'))\n",
        "model.add(Dropout(0.2))\n",
        "model.add(Dense(10, activation='softmax'))\n",
        "\n",
        "model.compile(loss='categorical_crossentropy',\n",
        "              optimizer='adam',\n",
        "              metrics=['accuracy'])\n",
        "\n",
        "modelpath=\"./data/model/MNIST_CNN.hdf5\"\n",
        "\n",
        "\n",
        "checkpointer = ModelCheckpoint(filepath=modelpath, monitor='val_loss', verbose=1, save_best_only=True)\n",
        "early_stopping_callback = EarlyStopping(monitor='val_loss', patience=5)\n",
        "\n",
        "history = model.fit(X_train, y_train, validation_split=0.3, epochs=10, batch_size=5, verbose=0, callbacks=[early_stopping_callback,checkpointer])\n",
        "\n",
        "print(\"\\n Test Accuracy: %.4f\" % (model.evaluate(X_test, y_test)[1]))\n",
        "\n"
      ],
      "metadata": {
        "colab": {
          "base_uri": "https://localhost:8080/"
        },
        "id": "RIW1JzbQla74",
        "outputId": "50093b58-7c91-4f86-96a2-c6277c7a5266"
      },
      "execution_count": null,
      "outputs": [
        {
          "output_type": "stream",
          "name": "stdout",
          "text": [
            "\n",
            "Epoch 1: val_loss improved from inf to 0.35433, saving model to ./data/model/MNIST_CNN.hdf5\n",
            "\n",
            "Epoch 2: val_loss improved from 0.35433 to 0.31974, saving model to ./data/model/MNIST_CNN.hdf5\n",
            "\n",
            "Epoch 3: val_loss improved from 0.31974 to 0.28942, saving model to ./data/model/MNIST_CNN.hdf5\n",
            "\n",
            "Epoch 4: val_loss improved from 0.28942 to 0.27859, saving model to ./data/model/MNIST_CNN.hdf5\n",
            "\n",
            "Epoch 5: val_loss did not improve from 0.27859\n",
            "\n",
            "Epoch 6: val_loss improved from 0.27859 to 0.27559, saving model to ./data/model/MNIST_CNN.hdf5\n",
            "\n",
            "Epoch 7: val_loss improved from 0.27559 to 0.25426, saving model to ./data/model/MNIST_CNN.hdf5\n",
            "\n",
            "Epoch 8: val_loss did not improve from 0.25426\n",
            "\n",
            "Epoch 9: val_loss improved from 0.25426 to 0.25204, saving model to ./data/model/MNIST_CNN.hdf5\n",
            "\n",
            "Epoch 10: val_loss did not improve from 0.25204\n",
            "313/313 [==============================] - 2s 7ms/step - loss: 0.2826 - accuracy: 0.9024\n",
            "\n",
            " Test Accuracy: 0.9024\n"
          ]
        }
      ]
    },
    {
      "cell_type": "code",
      "source": [
        "# 검증셋과 학습셋의 오차를 그래프로 표현\n",
        "y_vloss = history.history['val_loss']\n",
        "y_loss = history.history['loss']\n",
        "\n",
        "x_len = np.arange(len(y_loss))\n",
        "plt.plot(x_len, y_vloss, marker='.', c=\"red\", label='Testset_loss')\n",
        "plt.plot(x_len, y_loss, marker='.', c=\"blue\", label='Trainset_loss')\n",
        "\n",
        "\n",
        "plt.legend(loc='upper right')\n",
        "plt.grid()\n",
        "plt.xlabel('epoch')\n",
        "plt.ylabel('loss')\n",
        "plt.show()"
      ],
      "metadata": {
        "id": "CpesOUGW0PaI",
        "colab": {
          "base_uri": "https://localhost:8080/",
          "height": 279
        },
        "outputId": "c07edbfc-7b61-45e1-b07e-5d8e75db54af"
      },
      "execution_count": null,
      "outputs": [
        {
          "output_type": "display_data",
          "data": {
            "text/plain": [
              "<Figure size 432x288 with 1 Axes>"
            ],
            "image/png": "[encoded data removed]"
          },
          "metadata": {
            "needs_background": "light"
          }
        }
      ]
    }
  ]
}